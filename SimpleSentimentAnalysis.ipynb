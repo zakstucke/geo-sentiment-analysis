{
  "nbformat": 4,
  "nbformat_minor": 0,
  "metadata": {
    "colab": {
      "name": "SimpleSentimentAnalysis.ipynb",
      "provenance": [],
      "collapsed_sections": [],
      "authorship_tag": "ABX9TyNtc2u383EvZbd/7ws/TlNA",
      "include_colab_link": true
    },
    "kernelspec": {
      "name": "python3",
      "display_name": "Python 3"
    },
    "language_info": {
      "name": "python"
    }
  },
  "cells": [
    {
      "cell_type": "markdown",
      "metadata": {
        "id": "view-in-github",
        "colab_type": "text"
      },
      "source": [
        "<a href=\"https://colab.research.google.com/github/zakstucke/geo-sentiment-analysis/blob/master/SimpleSentimentAnalysis.ipynb\" target=\"_parent\"><img src=\"https://colab.research.google.com/assets/colab-badge.svg\" alt=\"Open In Colab\"/></a>"
      ]
    },
    {
      "cell_type": "code",
      "execution_count": 12,
      "metadata": {
        "colab": {
          "base_uri": "https://localhost:8080/"
        },
        "id": "gVBNl0iG_aIy",
        "outputId": "cfa6519b-25b2-477d-f6ec-8cbb27a213be"
      },
      "outputs": [
        {
          "output_type": "stream",
          "name": "stdout",
          "text": [
            "[nltk_data] Downloading package vader_lexicon to /root/nltk_data...\n"
          ]
        }
      ],
      "source": [
        "## Test notebook\n",
        "\n",
        "# import pandas\n",
        "import nltk\n",
        "\n",
        "# VADER = Valence Aware Dictionary for Sentiment Reasoning\n",
        "# Gives polarity and intensity of sentiment\n",
        "nltk.download('vader_lexicon')\n",
        "\n",
        "# Right from the documentation https://www.nltk.org/howto/sentiment.html\n",
        "from nltk.classify import NaiveBayesClassifier\n",
        "from nltk.corpus import subjectivity\n",
        "from nltk.sentiment import SentimentAnalyzer\n",
        "from nltk.sentiment.util import *"
      ]
    },
    {
      "cell_type": "code",
      "source": [
        "n_instances = 100\n",
        "subj_docs = [(sent, 'subj') for sent in subjectivity.sents(categories='subj')[:n_instances]]\n",
        "obj_docs = [(sent, 'obj') for sent in subjectivity.sents(categories='obj')[:n_instances]]\n",
        "len(subj_docs), len(obj_docs)"
      ],
      "metadata": {
        "colab": {
          "base_uri": "https://localhost:8080/"
        },
        "id": "WhMU79SUAiL3",
        "outputId": "aa724247-887e-41ac-a7e7-43bcb90b4bd2"
      },
      "execution_count": 10,
      "outputs": [
        {
          "output_type": "execute_result",
          "data": {
            "text/plain": [
              "(100, 100)"
            ]
          },
          "metadata": {},
          "execution_count": 10
        }
      ]
    },
    {
      "cell_type": "code",
      "source": [
        "# Feedback on a simple list of sentences\n",
        "from nltk.sentiment.vader import SentimentIntensityAnalyzer\n",
        "sentences = [\n",
        "             \"Covid is a good thing\",\n",
        "             \"Covid is a bad thing\"\n",
        "             ]\n",
        "pss = []   # polarity score's\n",
        "for sentence in sentences:\n",
        "  sia = SentimentIntensityAnalyzer()\n",
        "  pss.append(sia.polarity_scores(sentence))\n",
        "\n",
        "for ps in pss:\n",
        "  print(f\"neg: {ps['neg']}, pos: {ps['pos']}, neu: {ps['neu']}, cmp: {ps['compound']}\")"
      ],
      "metadata": {
        "colab": {
          "base_uri": "https://localhost:8080/"
        },
        "id": "iQ5zwrShCro4",
        "outputId": "87483ed5-3dec-48a7-ed13-5924bc7cc37b"
      },
      "execution_count": 27,
      "outputs": [
        {
          "output_type": "stream",
          "name": "stdout",
          "text": [
            "neg: 0.0, pos: 0.492, neu: 0.508, cmp: 0.4404\n",
            "neg: 0.538, pos: 0.0, neu: 0.462, cmp: -0.5423\n",
            "[{'neg': 0.0, 'neu': 0.508, 'pos': 0.492, 'compound': 0.4404}, {'neg': 0.538, 'neu': 0.462, 'pos': 0.0, 'compound': -0.5423}]\n"
          ]
        }
      ]
    },
    {
      "cell_type": "code",
      "source": [
        "# Converting to dataframe for small scale processing\n",
        "import pandas as pd\n",
        "df = pd.DataFrame(pss)\n",
        "print(df)\n",
        "\n",
        "# Select confidently negative answers\n",
        "negatives = df[(df['neg']>0.5) & (df['pos']<0.2)]\n",
        "# Print confidently negative sentences\n",
        "print(sentences[negatives.index[0]])"
      ],
      "metadata": {
        "colab": {
          "base_uri": "https://localhost:8080/"
        },
        "id": "VyO_MYZnFTsM",
        "outputId": "2de76c2c-43e4-4950-ae1d-b64ff7fef607"
      },
      "execution_count": 41,
      "outputs": [
        {
          "output_type": "stream",
          "name": "stdout",
          "text": [
            "     neg    neu    pos  compound\n",
            "0  0.000  0.508  0.492    0.4404\n",
            "1  0.538  0.462  0.000   -0.5423\n",
            "Covid is a bad thing\n"
          ]
        }
      ]
    }
  ]
}