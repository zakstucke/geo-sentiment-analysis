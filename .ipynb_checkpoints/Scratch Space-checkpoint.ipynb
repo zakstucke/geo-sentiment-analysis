{
 "cells": [
  {
   "cell_type": "code",
   "execution_count": 1,
   "metadata": {},
   "outputs": [
    {
     "ename": "ModuleNotFoundError",
     "evalue": "No module named 'nrclex'",
     "output_type": "error",
     "traceback": [
      "\u001b[1;31m---------------------------------------------------------------------------\u001b[0m",
      "\u001b[1;31mModuleNotFoundError\u001b[0m                       Traceback (most recent call last)",
      "\u001b[1;32m<ipython-input-1-a61f6a25b936>\u001b[0m in \u001b[0;36m<module>\u001b[1;34m\u001b[0m\n\u001b[0;32m      1\u001b[0m \u001b[1;32mimport\u001b[0m \u001b[0mpandas\u001b[0m \u001b[1;32mas\u001b[0m \u001b[0mpd\u001b[0m\u001b[1;33m\u001b[0m\u001b[1;33m\u001b[0m\u001b[0m\n\u001b[1;32m----> 2\u001b[1;33m \u001b[1;32mfrom\u001b[0m \u001b[0mcore\u001b[0m\u001b[1;33m.\u001b[0m\u001b[0msentiment_analysis\u001b[0m \u001b[1;32mimport\u001b[0m \u001b[0mcreate_emotions\u001b[0m\u001b[1;33m,\u001b[0m \u001b[0mcreate_bias\u001b[0m\u001b[1;33m,\u001b[0m \u001b[0mcreate_cleaned\u001b[0m\u001b[1;33m,\u001b[0m \u001b[0mcreate_geo\u001b[0m\u001b[1;33m\u001b[0m\u001b[1;33m\u001b[0m\u001b[0m\n\u001b[0m\u001b[0;32m      3\u001b[0m \u001b[1;32mimport\u001b[0m \u001b[0mcore\u001b[0m\u001b[1;33m.\u001b[0m\u001b[0mpopularWords\u001b[0m\u001b[1;33m\u001b[0m\u001b[1;33m\u001b[0m\u001b[0m\n\u001b[0;32m      4\u001b[0m \u001b[1;33m\u001b[0m\u001b[0m\n\u001b[0;32m      5\u001b[0m \u001b[0mdf\u001b[0m \u001b[1;33m=\u001b[0m \u001b[0mpd\u001b[0m\u001b[1;33m.\u001b[0m\u001b[0mDataFrame\u001b[0m\u001b[1;33m(\u001b[0m\u001b[1;33m{\u001b[0m\u001b[1;34m\"text\"\u001b[0m\u001b[1;33m:\u001b[0m \u001b[1;33m[\u001b[0m\u001b[1;34m\"What a great day\"\u001b[0m\u001b[1;33m,\u001b[0m \u001b[1;34m\"Today is awful\"\u001b[0m\u001b[1;33m,\u001b[0m \u001b[1;34m\"I'm so happy\"\u001b[0m\u001b[1;33m,\u001b[0m \u001b[1;34m\"Looking forward to a great day tomorrow.\"\u001b[0m\u001b[1;33m,\u001b[0m \u001b[1;34m\"Yesterday was scary\"\u001b[0m\u001b[1;33m]\u001b[0m\u001b[1;33m,\u001b[0m \u001b[1;34m\"address\"\u001b[0m\u001b[1;33m:\u001b[0m \u001b[1;33m[\u001b[0m\u001b[1;34m\"London\"\u001b[0m\u001b[1;33m,\u001b[0m \u001b[1;34m\"New York, US\"\u001b[0m\u001b[1;33m,\u001b[0m \u001b[1;34m\"Bristol, UK\"\u001b[0m\u001b[1;33m,\u001b[0m \u001b[1;34m\"104 Princess Victoria Street, Bristol, UK\"\u001b[0m\u001b[1;33m,\u001b[0m \u001b[1;34m\"KT8 0HS, UK\"\u001b[0m\u001b[1;33m]\u001b[0m\u001b[1;33m}\u001b[0m\u001b[1;33m)\u001b[0m\u001b[1;33m\u001b[0m\u001b[1;33m\u001b[0m\u001b[0m\n",
      "\u001b[1;32m~\\Documents\\University\\Year 3\\30050\\Coursework\\geo-sentiment-analysis\\core\\sentiment_analysis.py\u001b[0m in \u001b[0;36m<module>\u001b[1;34m\u001b[0m\n\u001b[0;32m      8\u001b[0m \u001b[1;32mimport\u001b[0m \u001b[0mgeopy\u001b[0m\u001b[1;33m.\u001b[0m\u001b[0mgeocoders\u001b[0m \u001b[1;32mas\u001b[0m \u001b[0mgeocoders\u001b[0m\u001b[1;33m\u001b[0m\u001b[1;33m\u001b[0m\u001b[0m\n\u001b[0;32m      9\u001b[0m \u001b[1;32mfrom\u001b[0m \u001b[0mnltk\u001b[0m\u001b[1;33m.\u001b[0m\u001b[0msentiment\u001b[0m\u001b[1;33m.\u001b[0m\u001b[0mvader\u001b[0m \u001b[1;32mimport\u001b[0m \u001b[0mSentimentIntensityAnalyzer\u001b[0m\u001b[1;33m\u001b[0m\u001b[1;33m\u001b[0m\u001b[0m\n\u001b[1;32m---> 10\u001b[1;33m \u001b[1;32mfrom\u001b[0m \u001b[0mnrclex\u001b[0m \u001b[1;32mimport\u001b[0m \u001b[0mNRCLex\u001b[0m\u001b[1;33m\u001b[0m\u001b[1;33m\u001b[0m\u001b[0m\n\u001b[0m\u001b[0;32m     11\u001b[0m \u001b[1;33m\u001b[0m\u001b[0m\n\u001b[0;32m     12\u001b[0m \u001b[1;32mfrom\u001b[0m \u001b[0mcore\u001b[0m\u001b[1;33m.\u001b[0m\u001b[0mcleaner\u001b[0m \u001b[1;32mimport\u001b[0m \u001b[0mstripFillerWords\u001b[0m\u001b[1;33m\u001b[0m\u001b[1;33m\u001b[0m\u001b[0m\n",
      "\u001b[1;31mModuleNotFoundError\u001b[0m: No module named 'nrclex'"
     ]
    }
   ],
   "source": [
    "import pandas as pd\n",
    "from core.sentiment_analysis import create_emotions, create_bias, create_cleaned, create_geo\n",
    "from core.popularWords import getPopularWords\n",
    "\n",
    "df = pd.DataFrame({\"text\": [\"What a great day\", \"Today is awful\", \"I'm so happy\", \"Looking forward to a great day tomorrow.\", \"Yesterday was scary\"], \"address\": [\"London\", \"New York, US\", \"Bristol, UK\", \"104 Princess Victoria Street, Bristol, UK\", \"KT8 0HS, UK\"]})\n",
    "\n",
    "\n",
    "df = create_cleaned(df, \"text\")\n",
    "df = create_bias(df, \"text\")\n",
    "df = create_emotions(df, \"text\")\n",
    "df = create_geo(df, \"address\")\n",
    "most_used_words = getPopularwords(df, \"text\",15)\n",
    "df\n"
   ]
  },
  {
   "cell_type": "code",
   "execution_count": null,
   "metadata": {},
   "outputs": [],
   "source": []
  },
  {
   "cell_type": "code",
   "execution_count": null,
   "metadata": {},
   "outputs": [],
   "source": []
  }
 ],
 "metadata": {
  "interpreter": {
   "hash": "ef82696326378bed312536c3f9bf39badbd2e89a27f981ae6f28c43c519ec9b1"
  },
  "kernelspec": {
   "display_name": "Python 3",
   "language": "python",
   "name": "python3"
  },
  "language_info": {
   "codemirror_mode": {
    "name": "ipython",
    "version": 3
   },
   "file_extension": ".py",
   "mimetype": "text/x-python",
   "name": "python",
   "nbconvert_exporter": "python",
   "pygments_lexer": "ipython3",
   "version": "3.8.5"
  }
 },
 "nbformat": 4,
 "nbformat_minor": 2
}
