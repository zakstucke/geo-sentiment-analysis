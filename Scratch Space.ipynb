{
 "cells": [
  {
   "cell_type": "code",
   "execution_count": 1,
   "metadata": {},
   "outputs": [
    {
     "data": {
      "text/html": [
       "<div>\n",
       "<style scoped>\n",
       "    .dataframe tbody tr th:only-of-type {\n",
       "        vertical-align: middle;\n",
       "    }\n",
       "\n",
       "    .dataframe tbody tr th {\n",
       "        vertical-align: top;\n",
       "    }\n",
       "\n",
       "    .dataframe thead th {\n",
       "        text-align: right;\n",
       "    }\n",
       "</style>\n",
       "<table border=\"1\" class=\"dataframe\">\n",
       "  <thead>\n",
       "    <tr style=\"text-align: right;\">\n",
       "      <th></th>\n",
       "      <th>text</th>\n",
       "      <th>emotion_1</th>\n",
       "      <th>emotion_2</th>\n",
       "      <th>emotion_3</th>\n",
       "      <th>pos</th>\n",
       "      <th>neg</th>\n",
       "      <th>neu</th>\n",
       "      <th>compound</th>\n",
       "    </tr>\n",
       "  </thead>\n",
       "  <tbody>\n",
       "    <tr>\n",
       "      <th>0</th>\n",
       "      <td>What a great day</td>\n",
       "      <td>(fear, 0.0)</td>\n",
       "      <td>(anger, 0.0)</td>\n",
       "      <td>(anticip, 0.0)</td>\n",
       "      <td>0.672</td>\n",
       "      <td>0.000</td>\n",
       "      <td>0.328</td>\n",
       "      <td>0.6249</td>\n",
       "    </tr>\n",
       "    <tr>\n",
       "      <th>1</th>\n",
       "      <td>Today is awful</td>\n",
       "      <td>(fear, 0.2)</td>\n",
       "      <td>(anger, 0.2)</td>\n",
       "      <td>(negative, 0.2)</td>\n",
       "      <td>0.000</td>\n",
       "      <td>0.600</td>\n",
       "      <td>0.400</td>\n",
       "      <td>-0.4588</td>\n",
       "    </tr>\n",
       "    <tr>\n",
       "      <th>2</th>\n",
       "      <td>I'm so happy</td>\n",
       "      <td>(trust, 0.25)</td>\n",
       "      <td>(positive, 0.25)</td>\n",
       "      <td>(joy, 0.25)</td>\n",
       "      <td>0.666</td>\n",
       "      <td>0.000</td>\n",
       "      <td>0.334</td>\n",
       "      <td>0.6115</td>\n",
       "    </tr>\n",
       "    <tr>\n",
       "      <th>3</th>\n",
       "      <td>Looking forward to a great day tomorrow.</td>\n",
       "      <td>(positive, 0.5)</td>\n",
       "      <td>(anticipation, 0.5)</td>\n",
       "      <td>NaN</td>\n",
       "      <td>0.451</td>\n",
       "      <td>0.000</td>\n",
       "      <td>0.549</td>\n",
       "      <td>0.6249</td>\n",
       "    </tr>\n",
       "    <tr>\n",
       "      <th>4</th>\n",
       "      <td>Yesterday was scary</td>\n",
       "      <td>(fear, 0.0)</td>\n",
       "      <td>(anger, 0.0)</td>\n",
       "      <td>(anticip, 0.0)</td>\n",
       "      <td>0.000</td>\n",
       "      <td>0.615</td>\n",
       "      <td>0.385</td>\n",
       "      <td>-0.4939</td>\n",
       "    </tr>\n",
       "  </tbody>\n",
       "</table>\n",
       "</div>"
      ],
      "text/plain": [
       "                                       text        emotion_1  \\\n",
       "0                          What a great day      (fear, 0.0)   \n",
       "1                            Today is awful      (fear, 0.2)   \n",
       "2                              I'm so happy    (trust, 0.25)   \n",
       "3  Looking forward to a great day tomorrow.  (positive, 0.5)   \n",
       "4                       Yesterday was scary      (fear, 0.0)   \n",
       "\n",
       "             emotion_2        emotion_3    pos    neg    neu  compound  \n",
       "0         (anger, 0.0)   (anticip, 0.0)  0.672  0.000  0.328    0.6249  \n",
       "1         (anger, 0.2)  (negative, 0.2)  0.000  0.600  0.400   -0.4588  \n",
       "2     (positive, 0.25)      (joy, 0.25)  0.666  0.000  0.334    0.6115  \n",
       "3  (anticipation, 0.5)              NaN  0.451  0.000  0.549    0.6249  \n",
       "4         (anger, 0.0)   (anticip, 0.0)  0.000  0.615  0.385   -0.4939  "
      ]
     },
     "execution_count": 1,
     "metadata": {},
     "output_type": "execute_result"
    }
   ],
   "source": [
    "import pandas as pd\n",
    "import numpy as np\n",
    "from core.sentiment_analysis import create_emotions, create_bias\n",
    "\n",
    "df = pd.DataFrame({\"text\": [\"What a great day\", \"Today is awful\", \"I'm so happy\", \"Looking forward to a great day tomorrow.\", \"Yesterday was scary\"]})\n",
    "\n",
    "df = create_emotions(df, \"text\")\n",
    "df = create_bias(df, \"text\")\n",
    "df\n"
   ]
  },
  {
   "cell_type": "code",
   "execution_count": 51,
   "metadata": {},
   "outputs": [
    {
     "name": "stdout",
     "output_type": "stream",
     "text": [
      "{'neg': 0.0, 'neu': 0.508, 'pos': 0.492, 'compound': 0.4404}\n",
      "{'neg': 0.538, 'neu': 0.462, 'pos': 0.0, 'compound': -0.5423}\n"
     ]
    },
    {
     "name": "stderr",
     "output_type": "stream",
     "text": [
      "[nltk_data] Downloading package vader_lexicon to\n",
      "[nltk_data]     /home/zakst/nltk_data...\n",
      "[nltk_data]   Package vader_lexicon is already up-to-date!\n"
     ]
    }
   ],
   "source": []
  }
 ],
 "metadata": {
  "interpreter": {
   "hash": "ef82696326378bed312536c3f9bf39badbd2e89a27f981ae6f28c43c519ec9b1"
  },
  "kernelspec": {
   "display_name": "Python 3.8.10 ('venv': venv)",
   "language": "python",
   "name": "python3"
  },
  "language_info": {
   "codemirror_mode": {
    "name": "ipython",
    "version": 3
   },
   "file_extension": ".py",
   "mimetype": "text/x-python",
   "name": "python",
   "nbconvert_exporter": "python",
   "pygments_lexer": "ipython3",
   "version": "3.8.10"
  },
  "orig_nbformat": 4
 },
 "nbformat": 4,
 "nbformat_minor": 2
}
