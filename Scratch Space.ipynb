{
 "cells": [
  {
   "cell_type": "code",
   "execution_count": 8,
   "metadata": {},
   "outputs": [
    {
     "name": "stdout",
     "output_type": "stream",
     "text": [
      "[('a', 2), ('great', 2), ('day', 2), ('What', 1), ('Today', 1), ('is', 1), ('awful', 1), (\"I'm\", 1), ('so', 1), ('happy', 1), ('Looking', 1), ('forward', 1), ('to', 1), ('tomorrow.', 1), ('Yesterday', 1)]\n"
     ]
    }
   ],
   "source": [
    "import pandas as pd\n",
    "from core.sentiment_analysis import create_emotions, create_bias, create_cleaned, create_geo\n",
    "from core.popularWords import getPopularWords\n",
    "\n",
    "df = pd.DataFrame({\"text\": [\"What a great day\", \"Today is awful\", \"I'm so happy\", \"Looking forward to a great day tomorrow.\", \"Yesterday was scary\"], \"address\": [\"London\", \"New York, US\", \"Bristol, UK\", \"104 Princess Victoria Street, Bristol, UK\", \"KT8 0HS, UK\"]})\n",
    "\n",
    "\n",
    "df = create_cleaned(df, \"text\")\n",
    "df = create_bias(df, \"text\")\n",
    "df = create_emotions(df, \"text\")\n",
    "df = create_geo(df, \"address\")\n",
    "\n",
    "most_used_words = getPopularWords(df, \"text\",15)\n",
    "print(most_used_words)\n"
   ]
  },
  {
   "cell_type": "markdown",
   "metadata": {},
   "source": []
  },
  {
   "cell_type": "code",
   "execution_count": null,
   "metadata": {},
   "outputs": [],
   "source": []
  },
  {
   "cell_type": "code",
   "execution_count": null,
   "metadata": {},
   "outputs": [],
   "source": []
  }
 ],
 "metadata": {
  "interpreter": {
   "hash": "ef82696326378bed312536c3f9bf39badbd2e89a27f981ae6f28c43c519ec9b1"
  },
  "kernelspec": {
   "display_name": "Python 3",
   "language": "python",
   "name": "python3"
  },
  "language_info": {
   "codemirror_mode": {
    "name": "ipython",
    "version": 3
   },
   "file_extension": ".py",
   "mimetype": "text/x-python",
   "name": "python",
   "nbconvert_exporter": "python",
   "pygments_lexer": "ipython3",
   "version": "3.7.3"
  }
 },
 "nbformat": 4,
 "nbformat_minor": 2
}
